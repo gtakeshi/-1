{
 "cells": [
  {
   "cell_type": "code",
   "execution_count": 18,
   "id": "together-potter",
   "metadata": {},
   "outputs": [
    {
     "name": "stdout",
     "output_type": "stream",
     "text": [
      "[ 1.         -1.47156663 -0.24247122  0.29170185  0.26932434  0.30192612\n",
      "  0.19835542  0.06954255 -0.15383863 -0.22841327 -0.21321864 -0.08598404\n",
      "  0.26559185]\n",
      "44100\n"
     ]
    },
    {
     "data": {
      "image/png": "[encoded data removed]",
      "text/plain": [
       "<Figure size 432x288 with 1 Axes>"
      ]
     },
     "metadata": {
      "needs_background": "light"
     },
     "output_type": "display_data"
    }
   ],
   "source": [
    "from scipy.io.wavfile import read\n",
    "import numpy as np\n",
    "fs, x = read(\"oct.400-800.wav\")\n",
    "\n",
    "def levinson(signal, order):\n",
    "    x = signal\n",
    "    p = order\n",
    "    autocorr = np.correlate(x,x,mode='full')\n",
    "    r = autocorr[len(x)-1:len(x)+p]\n",
    "\n",
    "    a = np.zeros(p+1)\n",
    "    k = np.zeros(p)\n",
    "    a[0] = 1\n",
    "    a[1] = -r[1] / r[0]\n",
    "    k[0] = a[1]\n",
    "    E = r[0] + r[1] * a[1]\n",
    "    for q in range(1,p):\n",
    "        k[q] = -np.sum(a[0:q+1] * r[q+1:0:-1]) / E\n",
    "        U = a[0:q+2]\n",
    "        V = U[::-1]\n",
    "        a[0:q+2] = U + k[q] * V\n",
    "        E *= 1-k[q] * k[q]\n",
    "\n",
    "    return a, k\n",
    "\n",
    "def burg(signal, order):\n",
    "    x = signal\n",
    "    P = order\n",
    "    a = np.zeros(P+1)\n",
    "    k = np.zeros(P)\n",
    "    a[0] = 1\n",
    "\n",
    "    f = np.copy(signal)\n",
    "    b = np.copy(signal)\n",
    "\n",
    "    N = len(f)\n",
    "    for p in range(P):\n",
    "        kf = f[p+1:]\n",
    "        kb = b[:N-p-1]\n",
    "        D = np.sum(kf * kf) + np.sum(kb * kb)\n",
    "        k[p] = -2 * np.sum(kf * kb) / D\n",
    "        U = a[0:p+2]\n",
    "        V = U[::-1]\n",
    "        a[0:p+2] = U + k[p] * V\n",
    "        fu = k[p] * b[:N-p-1]\n",
    "        bu = k[p] * f[p+1:]\n",
    "        f[p+1:] += fu\n",
    "        b[:N-p-1] += bu\n",
    "\n",
    "    return a, k\n",
    "\n",
    "a,k = burg(x/2000,12)\n",
    "print(a)\n",
    "print(fs)\n",
    "\n",
    "from scipy import signal\n",
    "import matplotlib.pyplot as plt\n",
    "\n",
    "w, h = signal.freqz(1, a)\n",
    "fig = plt.figure()\n",
    "ax = fig.add_subplot(111)\n",
    "ax.plot(fs * w / 2.0 / np.pi, 20 * np.log10(np.abs(h)))\n",
    "ax.set_xlabel('frequency [Hz]')\n",
    "ax.set_ylabel('$1 / |A(e^{j\\omega})|$ [dB]')\n",
    "plt.show()"
   ]
  }
 ],
 "metadata": {
  "kernelspec": {
   "display_name": "Python 3",
   "language": "python",
   "name": "python3"
  },
  "language_info": {
   "codemirror_mode": {
    "name": "ipython",
    "version": 3
   },
   "file_extension": ".py",
   "mimetype": "text/x-python",
   "name": "python",
   "nbconvert_exporter": "python",
   "pygments_lexer": "ipython3",
   "version": "3.8.8"
  }
 },
 "nbformat": 4,
 "nbformat_minor": 5
}
